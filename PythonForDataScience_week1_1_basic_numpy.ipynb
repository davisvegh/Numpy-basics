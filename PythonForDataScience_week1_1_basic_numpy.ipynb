{
  "nbformat": 4,
  "nbformat_minor": 0,
  "metadata": {
    "colab": {
      "provenance": [],
      "include_colab_link": true
    },
    "kernelspec": {
      "name": "python3",
      "display_name": "Python 3"
    },
    "language_info": {
      "name": "python"
    }
  },
  "cells": [
    {
      "cell_type": "markdown",
      "metadata": {
        "id": "view-in-github",
        "colab_type": "text"
      },
      "source": [
        "<a href=\"https://colab.research.google.com/github/davisvegh/Numpy-basics/blob/main/PythonForDataScience_week1_1_basic_numpy.ipynb\" target=\"_parent\"><img src=\"https://colab.research.google.com/assets/colab-badge.svg\" alt=\"Open In Colab\"/></a>"
      ]
    },
    {
      "cell_type": "code",
      "execution_count": null,
      "metadata": {
        "id": "ma9gJaHdumDW"
      },
      "outputs": [],
      "source": [
        "import numpy as np"
      ]
    },
    {
      "cell_type": "code",
      "source": [
        "#NUMPY INDEXING AND ACCESSING ELEMENTS\n",
        "#create a 2d python list and access the first and the second element?\n",
        "#create a numpy array and access random elements?\n",
        "\n",
        "# Get a specific element [row, col]\n",
        "# With slicing - [row_start:row_end, col_start:col_end]\n",
        "# Can leave out row_start / col_start if 0\n",
        "\n",
        "#get a specific row\n",
        "#get a specific column\n",
        "\n",
        "# modify array\n",
        "\n",
        "#example of indexing into 3d array\n",
        "\n",
        "#NUMPY SHAPE-SHIFTING\n",
        "#concatenate arrays\n",
        "#vertically stacking vectors\n",
        "#horizontal stack\n",
        "#reshape array\n",
        "#reshape a_flat to a rectangle matrix\n",
        "\n",
        "\n",
        "#NUMPY MATH AND BROADCASTING\n",
        "#create a 1d array and print it\n",
        "#add value to all elements at once\n",
        "#multiply all elements by a value\n",
        "#divide all elements by a value\n",
        "#add 2 arrays together\n",
        "#multiply 2 arrays together\n",
        "#take the sin/cos of arrays\n",
        "#perform linear algebra operations on arrays\n",
        "#transpose a 3d array to a 1d array\n",
        "\n",
        "#LOAD DATA FROM FILE INTO NUMPY\n"
      ],
      "metadata": {
        "colab": {
          "base_uri": "https://localhost:8080/"
        },
        "id": "k_Yune7ilX4A",
        "outputId": "5687b272-4b89-476b-be31-9ec5c9e3af26"
      },
      "execution_count": null,
      "outputs": [
        {
          "output_type": "stream",
          "name": "stdout",
          "text": [
            "[1, 2, 3, 4]\n"
          ]
        }
      ]
    },
    {
      "cell_type": "code",
      "source": [
        "#INITIALIZING NUMPY ARRAYS\n",
        "#import numpy as np\n",
        "\n",
        "#create a python list\n",
        "#a_list = [1,2,3,4]\n",
        "#print(a_list)\n",
        "\n",
        "#create a numpy 1d array\n",
        "#b = np.array([9.0,8.0,7.0,6.0])\n",
        "#print(b)\n",
        "\n",
        "#create a numpy 2d array\n",
        "#c = np.array([[1,2,3,4],[5,6,7,8]])\n",
        "#print(c)\n",
        "\n",
        "#get dimension of both arrays\n",
        "#print('The array B has %d dimension' % b.ndim)\n",
        "#print(\"The array C has %d dimensions\" % c.ndim)\n",
        "\n",
        "#get shape of both arrays\n",
        "#print(b.shape)\n",
        "#print(c.shape)\n",
        "\n",
        "#get type of both arrays\n",
        "#print(b.dtype)\n",
        "#print(c.dtype)\n",
        "\n",
        "#get size of both arrays\n",
        "#print(b.nbytes)\n",
        "#print(c.nbytes)"
      ],
      "metadata": {
        "colab": {
          "base_uri": "https://localhost:8080/"
        },
        "id": "mzSIazuRrLmz",
        "outputId": "29b3cd6a-f946-43de-9a5b-e3e626e4cf20"
      },
      "execution_count": null,
      "outputs": [
        {
          "output_type": "stream",
          "name": "stdout",
          "text": [
            "32\n",
            "64\n"
          ]
        }
      ]
    },
    {
      "cell_type": "code",
      "source": [
        "#import numpy as np\n",
        "\n",
        "#MORE TYPES OF NUMPY INITIALIZATIONS\n",
        "#create an all 0 matrix\n",
        "#d = np.zeros((3,3))\n",
        "#print(d)\n",
        "\n",
        "#create an all 1 matrix\n",
        "#ones = np.ones((3,3))\n",
        "#print(ones)\n",
        "\n",
        "#create a matrix filled with random numbers\n",
        "#randomn = np.random.rand(3,2)\n",
        "#print(randomn)\n",
        "\n",
        "#create an identity matrix\n",
        "#meye = np.eye(3)\n",
        "#print(meye)\n",
        "\n",
        "#create a matrix filled with random decimal numbers between 0-10\n",
        "#randomdec = np.random.rand(4,2)*10\n",
        "#print(randomdec)\n",
        "\n",
        "#copy in numpy\n",
        "#a = np.array([1,2,3])\n",
        "#b = a.copy()\n",
        "\n",
        "#b[1] = 99\n",
        "#print(a)\n",
        "#print(b)\n"
      ],
      "metadata": {
        "id": "0FxF4c_Bz1c8"
      },
      "execution_count": null,
      "outputs": []
    },
    {
      "cell_type": "code",
      "source": [
        "#NUMPY INDEXING AND ACCESSING ELEMENTS\n",
        "#create a 2d python list and access the second row's third and fourth item\n",
        "#a = [[1,2,3],[4,5,6]]\n",
        "#a[1][2]\n",
        "\n",
        "#create a numpy array and sh shape\n",
        "#a = np.array([[1,2,3,4,5,6,7],[8,9,10,11,12,13,14]])\n",
        "#print(a.shape)\n",
        "\n",
        "# Get a specific element [row, col]\n",
        "# With slicing - [row_start:row_end, col_start:col_end]\n",
        "# Can leave out row_start / col_start if 0\n",
        "#a[:2,:-2]\n",
        "\n",
        "#get a specific row\n",
        "#row = a[1,:]\n",
        "#print(row)\n",
        "\n",
        "#get a specific column\n",
        "#col = a[:,4]\n",
        "#print(col)\n",
        "\n",
        "# modify array\n",
        "#a[:,2] = [6,9]\n",
        "#print(a)\n",
        "\n",
        "#example of indexing into 3d array\n",
        "#a = np.array([[[1,2],[3,4]],[[5,6],[7,8]]])\n",
        "#print(f\"The a array is:  \\n {a}\")\n",
        "\n",
        "#print(f\"\\n The 1st row's first column's 0th element of the a array is: {a[1,1,0]}\")"
      ],
      "metadata": {
        "colab": {
          "base_uri": "https://localhost:8080/"
        },
        "id": "SRZH0uzMieBn",
        "outputId": "de2c2f3d-50a3-4018-c94f-5f8bbad19a2a"
      },
      "execution_count": null,
      "outputs": [
        {
          "output_type": "stream",
          "name": "stdout",
          "text": [
            "The a array is:  \n",
            " [[[1 2]\n",
            "  [3 4]]\n",
            "\n",
            " [[5 6]\n",
            "  [7 8]]]\n",
            "\n",
            " The 1st row's first column's 0th element of the a array is: 7\n"
          ]
        }
      ]
    },
    {
      "cell_type": "code",
      "source": [
        "#NUMPY SHAPE-SHIFTING\n",
        "#concatenate arrays\n",
        "#import numpy as np\n",
        "\n",
        "a = np.array([[1,2,3],[4,5,6]])\n",
        "b = np.array([[7,8,9]])\n",
        "\n",
        "#c = np.concatenate((a,b), axis = None)\n",
        "#print(c)\n",
        "\n",
        "\n",
        "#vertically stacking vectors\n",
        "np.vstack([a,b])\n",
        "#print(d)\n",
        "\n",
        "#horizontal stack\n",
        "#print(\"---\")\n",
        "#d = np.hstack(a)\n",
        "#print(d)\n",
        "\n",
        "#reshape array\n",
        "#print(f\"The shape of the array A is: {a.shape}\")\n",
        "#print(a)\n",
        "#print(\"Reshaping the A array:\")\n",
        "#b = a.reshape(3,2)\n",
        "#print(b)\n",
        "\n",
        "\n",
        "#reshape a_flat to a rectangle matrix\n",
        "#c = a.reshape(1,1)\n",
        "#print(c)"
      ],
      "metadata": {
        "colab": {
          "base_uri": "https://localhost:8080/"
        },
        "id": "it6-x2rkDqRD",
        "outputId": "b7a73ef6-7a13-49b5-8cc0-a1c007b51848"
      },
      "execution_count": null,
      "outputs": [
        {
          "output_type": "execute_result",
          "data": {
            "text/plain": [
              "array([[1, 2, 3],\n",
              "       [4, 5, 6],\n",
              "       [7, 8, 9]])"
            ]
          },
          "metadata": {},
          "execution_count": 20
        }
      ]
    },
    {
      "cell_type": "markdown",
      "source": [
        "# Initializing Numpy Arrays\n"
      ],
      "metadata": {
        "id": "5vWvQD3wwMTK"
      }
    },
    {
      "cell_type": "code",
      "source": [
        "a = [1, 2, 3, 4]  # normal python list\n",
        "numpy_a = np.array([1, 2, 3, 4], dtype='int16') # numpy 1d array"
      ],
      "metadata": {
        "id": "5VGpPTvYwRP4"
      },
      "execution_count": null,
      "outputs": []
    },
    {
      "cell_type": "code",
      "source": [
        "# numpy 2d array\n",
        "b = np.array([\n",
        "    [9.0,8.0,7.0],\n",
        "    [6.0,5.0,4.0]\n",
        "])"
      ],
      "metadata": {
        "id": "5mlEUTR0gRQ2"
      },
      "execution_count": null,
      "outputs": []
    },
    {
      "cell_type": "code",
      "source": [
        "# Get Dimension\n",
        "# a.ndim\n",
        "b.ndim"
      ],
      "metadata": {
        "colab": {
          "base_uri": "https://localhost:8080/"
        },
        "id": "TxyMfRs-garD",
        "outputId": "650a65df-f248-4f0b-a1aa-c5a4833a8f45"
      },
      "execution_count": null,
      "outputs": [
        {
          "output_type": "execute_result",
          "data": {
            "text/plain": [
              "2"
            ]
          },
          "metadata": {},
          "execution_count": 4
        }
      ]
    },
    {
      "cell_type": "code",
      "source": [
        "# Get Shape\n",
        "b.shape"
      ],
      "metadata": {
        "colab": {
          "base_uri": "https://localhost:8080/"
        },
        "id": "bpnurl3YgeNc",
        "outputId": "e6181926-dedc-49c5-f3a4-ecf5eda1c6d0"
      },
      "execution_count": null,
      "outputs": [
        {
          "output_type": "execute_result",
          "data": {
            "text/plain": [
              "(2, 3)"
            ]
          },
          "metadata": {},
          "execution_count": 5
        }
      ]
    },
    {
      "cell_type": "code",
      "source": [
        "# Get Type\n",
        "print(b.dtype)\n",
        "\n",
        "# Get Size\n",
        "print(b.nbytes)"
      ],
      "metadata": {
        "colab": {
          "base_uri": "https://localhost:8080/"
        },
        "id": "0EcdfqPCgiLv",
        "outputId": "348219ab-d76f-4371-8dd6-bec394c80d62"
      },
      "execution_count": null,
      "outputs": [
        {
          "output_type": "stream",
          "name": "stdout",
          "text": [
            "float64\n",
            "48\n"
          ]
        }
      ]
    },
    {
      "cell_type": "markdown",
      "source": [
        "# More types of NumPy initializations"
      ],
      "metadata": {
        "id": "1K0eLRfZgqwU"
      }
    },
    {
      "cell_type": "code",
      "source": [
        "# All 0s matrix\n",
        "np.zeros((5,6))"
      ],
      "metadata": {
        "id": "Y3pAqy1eguxf"
      },
      "execution_count": null,
      "outputs": []
    },
    {
      "cell_type": "code",
      "source": [
        "# All 1s matrix\n",
        "np.ones((3, 3))"
      ],
      "metadata": {
        "id": "VCBNOVprgw2w"
      },
      "execution_count": null,
      "outputs": []
    },
    {
      "cell_type": "code",
      "source": [
        "# Matrix filled with any number\n",
        "np.full((5,2), 8)"
      ],
      "metadata": {
        "colab": {
          "base_uri": "https://localhost:8080/"
        },
        "id": "RmqlrbS5gzpo",
        "outputId": "18edda58-d73a-48d0-a740-63c2e1dc6391"
      },
      "execution_count": null,
      "outputs": [
        {
          "output_type": "execute_result",
          "data": {
            "text/plain": [
              "array([[8, 8],\n",
              "       [8, 8],\n",
              "       [8, 8],\n",
              "       [8, 8],\n",
              "       [8, 8]])"
            ]
          },
          "metadata": {},
          "execution_count": 9
        }
      ]
    },
    {
      "cell_type": "code",
      "source": [
        "# identity matrix\n",
        "np.eye(5)"
      ],
      "metadata": {
        "id": "ZRdxFeDNg6_z"
      },
      "execution_count": null,
      "outputs": []
    },
    {
      "cell_type": "code",
      "source": [
        "# Random decimal numbers between 0-10\n",
        "np.random.rand(4,2) * 10"
      ],
      "metadata": {
        "id": "urhyX4m1g93Q"
      },
      "execution_count": null,
      "outputs": []
    },
    {
      "cell_type": "code",
      "source": [
        "# Copying in numpy\n",
        "a = np.array([1,2,3])\n",
        "b = a.copy() # REMEMBER TO DO THIS. Otherwise, when b is mutated, a also changes\n",
        "\n",
        "b[1] = 100\n",
        "print(a)\n",
        "print(b)"
      ],
      "metadata": {
        "id": "jTD8p0ZrhAdK"
      },
      "execution_count": null,
      "outputs": []
    },
    {
      "cell_type": "markdown",
      "source": [
        "#Numpy Indexing and Accessing Elements"
      ],
      "metadata": {
        "id": "datKJcj9yA7Z"
      }
    },
    {
      "cell_type": "code",
      "source": [
        "python_list = [\n",
        "    ['apple', 'orange', 'banana'], \n",
        "    ['panda', 2, 100]]\n",
        "python_list[1][2]"
      ],
      "metadata": {
        "id": "P15UQMeDyIat"
      },
      "execution_count": null,
      "outputs": []
    },
    {
      "cell_type": "code",
      "source": [
        "a = np.array([\n",
        "    [1,2,3,4,5,6,7],\n",
        "    [8,9,10,11,12,13,14]\n",
        "])\n",
        "a.shape"
      ],
      "metadata": {
        "id": "Ze-TaMKuyrDr"
      },
      "execution_count": null,
      "outputs": []
    },
    {
      "cell_type": "code",
      "source": [
        "# Get a specific element [row, col]\n",
        "# With slicing - [row_start:row_end, col_start:col_end]\n",
        "# Can leave out row_start / col_start if 0\n",
        "a[:2,:-2]"
      ],
      "metadata": {
        "id": "j1geBPD4y50D"
      },
      "execution_count": null,
      "outputs": []
    },
    {
      "cell_type": "code",
      "source": [
        "# Get a specific row \n",
        "row = a[0, :]\n",
        "print(row)\n",
        "\n",
        "# Get a specific column\n",
        "col = a[:, 4]\n",
        "print(col)"
      ],
      "metadata": {
        "id": "PZsnBc1th1mR"
      },
      "execution_count": null,
      "outputs": []
    },
    {
      "cell_type": "code",
      "source": [
        "# Modify array\n",
        "a[:,2] = [1,2]\n",
        "print(a)"
      ],
      "metadata": {
        "id": "AZ3Shq46h5W6"
      },
      "execution_count": null,
      "outputs": []
    },
    {
      "cell_type": "code",
      "source": [
        "# Example of indexing into 3D array\n",
        "\n",
        "c = np.array([\n",
        "    [[1,2],[3,4]],\n",
        "    [[5,6],[7,8]]\n",
        "  ])\n",
        "# print(c)\n",
        "\n",
        "# access 1st row, 1st col, 0th value\n",
        "print(c[1, 1, 0])"
      ],
      "metadata": {
        "id": "byB71kAjiCnW"
      },
      "execution_count": null,
      "outputs": []
    },
    {
      "cell_type": "markdown",
      "source": [
        "# Numpy Shape-shifting"
      ],
      "metadata": {
        "id": "ajUZe-hKjthE"
      }
    },
    {
      "cell_type": "code",
      "source": [
        "# Concatenating arrays\n",
        "arr1 = np.array([1,2,3,4])\n",
        "arr2 = np.array([5,6,7,8])\n",
        "np.concatenate((arr1, arr2))"
      ],
      "metadata": {
        "id": "kOnSCYsrj1TI"
      },
      "execution_count": null,
      "outputs": []
    },
    {
      "cell_type": "code",
      "source": [
        "# Vertically stacking vectors\n",
        "v1 = np.array([1,2,3,4])\n",
        "v2 = np.array([5,6,7,8])\n",
        "\n",
        "np.vstack([v1,v2])"
      ],
      "metadata": {
        "id": "CPXY4BByj4zc"
      },
      "execution_count": null,
      "outputs": []
    },
    {
      "cell_type": "code",
      "source": [
        "# Horizontal  stack\n",
        "h1 = np.ones((4,5))\n",
        "h2 = np.full((4,2), 2)\n",
        "\n",
        "np.hstack((h1,h2))"
      ],
      "metadata": {
        "id": "1WmrYIZNj7Lj"
      },
      "execution_count": null,
      "outputs": []
    },
    {
      "cell_type": "code",
      "source": [
        "# Reshape array\n",
        "a = np.full((4, 8), 3)\n",
        "print(a)\n",
        "\n",
        "a_flat = a.flatten()\n",
        "print(a_flat)\n",
        "\n",
        "# Reshap a_flat to a rectangle matrix\n",
        "b = np.reshape(a_flat, (2, 16))\n",
        "print(b)"
      ],
      "metadata": {
        "id": "yRdR9gIOlFL9"
      },
      "execution_count": null,
      "outputs": []
    },
    {
      "cell_type": "markdown",
      "source": [
        "# Numpy Math & Broadcasting"
      ],
      "metadata": {
        "id": "jjk_HAmdkHiP"
      }
    },
    {
      "cell_type": "code",
      "source": [
        "a = np.array([1,2,3,4])\n",
        "print(a)"
      ],
      "metadata": {
        "id": "H5ZUgIfpkLfP"
      },
      "execution_count": null,
      "outputs": []
    },
    {
      "cell_type": "code",
      "source": [
        "# Add value to all elements at once\n",
        "print(a + 7)"
      ],
      "metadata": {
        "id": "42AsHqojkQAE"
      },
      "execution_count": null,
      "outputs": []
    },
    {
      "cell_type": "code",
      "source": [
        "# Multiply all elements in a by value\n",
        "print(a * 3)"
      ],
      "metadata": {
        "id": "wpmt_ZDzkV3m"
      },
      "execution_count": null,
      "outputs": []
    },
    {
      "cell_type": "code",
      "source": [
        "# Divide all elements in a by value\n",
        "print(a / 2)"
      ],
      "metadata": {
        "id": "7H0Q2mE4ka7p"
      },
      "execution_count": null,
      "outputs": []
    },
    {
      "cell_type": "code",
      "source": [
        "# Add 2 arrays together\n",
        "b = np.array([4, 5, 6, 7]) # Needs to be the same shape! \n",
        "\n",
        "print(a + b)"
      ],
      "metadata": {
        "id": "FDquIoiWkgzs"
      },
      "execution_count": null,
      "outputs": []
    },
    {
      "cell_type": "code",
      "source": [
        "# Multiply 2 arrays together\n",
        "print(a * b) # Needs to be the same shape!"
      ],
      "metadata": {
        "id": "piIvI4Mdkqbd"
      },
      "execution_count": null,
      "outputs": []
    },
    {
      "cell_type": "code",
      "source": [
        "# Take the sin / cos of arrays\n",
        "# For a lot more (https://docs.scipy.org/doc/numpy/reference/routines.math.html)\n",
        "np.sin(a * b)"
      ],
      "metadata": {
        "id": "bbxtJ9zKk2aw"
      },
      "execution_count": null,
      "outputs": []
    },
    {
      "cell_type": "code",
      "source": [
        "# Perform linear algebra operations\n",
        "\n",
        "# shape (2, 2)\n",
        "a = np.array([\n",
        "    [1, 2], \n",
        "    [2, 3]\n",
        "])\n",
        "\n",
        "# shape (3, 2)\n",
        "b = np.array([\n",
        "    [1, 2], \n",
        "    [2, 3],\n",
        "    [3, 3]\n",
        "])\n",
        "\n",
        "# Error!\n",
        "c = np.matmul(a, b)"
      ],
      "metadata": {
        "id": "4lPe33sVk9Ob"
      },
      "execution_count": null,
      "outputs": []
    },
    {
      "cell_type": "code",
      "source": [
        "c = np.matmul(a, b.transpose()) # (2, 2) x (2, 3) => (2, 3)\n",
        "print(c)"
      ],
      "metadata": {
        "id": "ghnZjt4IlsnW"
      },
      "execution_count": null,
      "outputs": []
    },
    {
      "cell_type": "markdown",
      "source": [
        "# Load data from file into Numpy"
      ],
      "metadata": {
        "id": "laiSCJO-jQhp"
      }
    },
    {
      "cell_type": "code",
      "source": [
        "filedata = np.genfromtxt('./sample_data/california_housing_train.csv', delimiter=',', skip_header=1)\n",
        "\n",
        "print(filedata.shape)"
      ],
      "metadata": {
        "id": "BASBHqSxjEZF"
      },
      "execution_count": null,
      "outputs": []
    },
    {
      "cell_type": "code",
      "source": [
        "total_rooms = filedata[:, 3] \n",
        "total_rooms.shape"
      ],
      "metadata": {
        "id": "ohbxxpuSjYMx"
      },
      "execution_count": null,
      "outputs": []
    },
    {
      "cell_type": "code",
      "source": [
        "print(min(total_rooms))\n",
        "print(max(total_rooms))"
      ],
      "metadata": {
        "id": "Mvqyf8BJjiXR"
      },
      "execution_count": null,
      "outputs": []
    },
    {
      "cell_type": "code",
      "source": [
        "# concatenate a new column to existing data\n",
        "num_persons_living = np.full((17000, 1), 4)\n",
        "\n",
        "filedata = np.hstack((filedata, num_persons_living))\n",
        "print(filedata.shape)"
      ],
      "metadata": {
        "id": "P6xESED2jn2s"
      },
      "execution_count": null,
      "outputs": []
    },
    {
      "cell_type": "code",
      "source": [],
      "metadata": {
        "id": "KHDoaAYNmETY"
      },
      "execution_count": null,
      "outputs": []
    }
  ]
}